{
 "cells": [
  {
   "cell_type": "code",
   "execution_count": 13,
   "metadata": {},
   "outputs": [],
   "source": [
    "from bokeh.plotting import figure,output_file,show\n",
    "#df=pandas.DataFrame(columns=[\"X\",\"Y\"])\n",
    "#df[\"X\"]=[1,2,3,4]\n",
    "#df[\"Y\"]=[4,6,8,2]\n",
    "#p=Scatter(df,x=\"X\",y=\"Y\",title=\"Temperature observations\",xlabel=\"Day of observation\",ylabel=\"Temperature\")\n",
    "p=figure(plot_width=500,plot_height=400,title=\"Earthquakes\")\n",
    "#p.circle([1,2,3,4,5],[5,6,5,5,3],size=5,color=\"red\",alpha=0.5)\n",
    "#p.triangle([1,2,3,4,5],[5,6,5,5,3],size=5,color=\"red\",alpha=0.5)\n",
    "p.triangle([1,2,3,4,5],[5,6,5,5,3],size=[i*2 for i in [2,4,6,8,10]],color=\"blue\",alpha=0.5)\n",
    "p.title.align=\"center\"\n",
    "output_file(\"Scatter_plotting.html\")\n",
    "show(p)"
   ]
  },
  {
   "cell_type": "code",
   "execution_count": null,
   "metadata": {},
   "outputs": [],
   "source": []
  },
  {
   "cell_type": "code",
   "execution_count": null,
   "metadata": {},
   "outputs": [],
   "source": []
  },
  {
   "cell_type": "code",
   "execution_count": null,
   "metadata": {},
   "outputs": [],
   "source": []
  },
  {
   "cell_type": "code",
   "execution_count": null,
   "metadata": {},
   "outputs": [],
   "source": []
  },
  {
   "cell_type": "code",
   "execution_count": null,
   "metadata": {},
   "outputs": [],
   "source": []
  },
  {
   "cell_type": "code",
   "execution_count": null,
   "metadata": {},
   "outputs": [],
   "source": []
  },
  {
   "cell_type": "code",
   "execution_count": null,
   "metadata": {},
   "outputs": [],
   "source": []
  },
  {
   "cell_type": "code",
   "execution_count": null,
   "metadata": {},
   "outputs": [],
   "source": []
  }
 ],
 "metadata": {
  "kernelspec": {
   "display_name": "Python 3",
   "language": "python",
   "name": "python3"
  },
  "language_info": {
   "codemirror_mode": {
    "name": "ipython",
    "version": 3
   },
   "file_extension": ".py",
   "mimetype": "text/x-python",
   "name": "python",
   "nbconvert_exporter": "python",
   "pygments_lexer": "ipython3",
   "version": "3.7.1"
  }
 },
 "nbformat": 4,
 "nbformat_minor": 2
}
